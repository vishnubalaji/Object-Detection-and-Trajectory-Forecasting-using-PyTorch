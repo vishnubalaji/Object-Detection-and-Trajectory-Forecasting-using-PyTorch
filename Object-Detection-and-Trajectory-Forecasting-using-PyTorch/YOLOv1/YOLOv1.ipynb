{
  "nbformat": 4,
  "nbformat_minor": 0,
  "metadata": {
    "colab": {
      "name": "YOLOv1.ipynb",
      "provenance": [],
      "authorship_tag": "ABX9TyPOIhvpnbb6xLIXdG2oDYNb",
      "include_colab_link": true
    },
    "kernelspec": {
      "name": "python3",
      "display_name": "Python 3"
    },
    "language_info": {
      "name": "python"
    }
  },
  "cells": [
    {
      "cell_type": "markdown",
      "metadata": {
        "id": "view-in-github",
        "colab_type": "text"
      },
      "source": [
        "<a href=\"https://colab.research.google.com/github/vishnubalaji/Object-Detection-and-Trajectory-Forecasting-using-PyTorch/blob/main/Object-Detection-and-Trajectory-Forecasting-using-PyTorch/YOLOv1/YOLOv1.ipynb\" target=\"_parent\"><img src=\"https://colab.research.google.com/assets/colab-badge.svg\" alt=\"Open In Colab\"/></a>"
      ]
    },
    {
      "cell_type": "code",
      "metadata": {
        "id": "kqUszyGMWFma"
      },
      "source": [
        ""
      ],
      "execution_count": null,
      "outputs": []
    }
  ]
}