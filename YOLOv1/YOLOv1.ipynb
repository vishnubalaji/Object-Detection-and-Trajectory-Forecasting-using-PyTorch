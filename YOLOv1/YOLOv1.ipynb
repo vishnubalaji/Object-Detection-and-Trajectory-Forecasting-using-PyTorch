{
  "nbformat": 4,
  "nbformat_minor": 0,
  "metadata": {
    "colab": {
      "name": "YOLOv1.ipynb",
      "provenance": [],
      "authorship_tag": "ABX9TyPOIhvpnbb6xLIXdG2oDYNb"
    },
    "kernelspec": {
      "name": "python3",
      "display_name": "Python 3"
    },
    "language_info": {
      "name": "python"
    }
  },
  "cells": [
    {
      "cell_type": "code",
      "metadata": {
        "id": "kqUszyGMWFma"
      },
      "source": [
        ""
      ],
      "execution_count": null,
      "outputs": []
    }
  ]
}