{
  "nbformat": 4,
  "nbformat_minor": 0,
  "metadata": {
    "colab": {
      "name": "YOLOv1.ipynb",
      "provenance": [],
      "authorship_tag": "ABX9TyNxG/H085fe6LCWJjaXgZGr"
    },
    "kernelspec": {
      "name": "python3",
      "display_name": "Python 3"
    },
    "language_info": {
      "name": "python"
    }
  },
  "cells": [
    {
      "cell_type": "markdown",
      "metadata": {
        "id": "iwY6xlcobxIm"
      },
      "source": [
        "#Getting started with YOLOv1 in PyTorch\n",
        "\n",
        "Materials used for learning YOLO :\n",
        "1. YOLOv1 from scratch ( by Aladdin Persson --> https://www.youtube.com/watch?v=n9_XyCGr-MI&t=1044s )"
      ]
    },
    {
      "cell_type": "markdown",
      "metadata": {
        "id": "P_vIeuQThINX"
      },
      "source": [
        "##model.py"
      ]
    },
    {
      "cell_type": "code",
      "metadata": {
        "id": "kqUszyGMWFma"
      },
      "source": [
        "# List all the packages to be imported\n",
        "\n",
        "import torch\n",
        "import torch.nn as nn"
      ],
      "execution_count": 2,
      "outputs": []
    },
    {
      "cell_type": "code",
      "metadata": {
        "id": "O82jyiyuhYUM"
      },
      "source": [
        "# Format for architecture_config is tuple( kernel_size, num_filters, stride, padding ) ; \"M\" represents Maxpool of size 2x2 with stride 2\n",
        "architecture_config = [\n",
        "                       (7,64,2,3),\n",
        "                       \"M\",\n",
        "                       (3,192,1,1),\n",
        "                       \"M\",\n",
        "                       (1,128,1,0),\n",
        "                       (3,256,1,1),\n",
        "                       (1,256,1,0),\n",
        "                       (3,512,1,1),\n",
        "                       \"M\",\n",
        "                       [(1,256,1,0),(3,512,1,1),4],\n",
        "                       (1,512,1,0),\n",
        "                       (3,1024,1,1),\n",
        "                       \"M\",\n",
        "                       [(1,512,1,0),(3,1024,1,1),2],\n",
        "                       (3,1024,1,1),\n",
        "                       (3,1024,2,1),\n",
        "                       (3,1024,1,1),\n",
        "                       (3,1024,1,1),\n",
        "]\n",
        "\n",
        "class CNN(nn.Module):\n",
        "  def _init_(self,in_channels,out_channels):\n",
        "    super(CNN,self)._init_()\n",
        "    self.conv = nn.Conv2d(in_channels,out_channels, bias=False)\n",
        "    self.batchnorm = nn.BatchNorm2d(out_channels)\n",
        "    self.leakyrelu = nn.LeakyReLU(0.1)\n",
        "\n",
        "  def forward(self,x):\n",
        "    return self.leakyrelu(self.batchnorm(self.conv(x)))\n",
        "  \n",
        "class Yolov1(nn.Module):\n",
        "  def _init_(self,in_channels=3):\n",
        "    super(Yolov1,self)._init_()\n",
        "    self.architecture = architecture_config\n",
        "    self.in_channels = in_channels\n",
        "    self.darknet = self._create_conv_layers(self.architecture)\n",
        "    self.fcs = self._create_fcs(**kwargs)\n",
        "\n",
        "  def forward(self,x):\n",
        "    x=self.darknet(x)\n",
        "    return self.fcs(torch.flatten(x,start_dim=1))\n",
        "\n",
        "  def _create_conv_layers(self,architecture):\n",
        "    layers=[]\n",
        "    in_channels = self.in_channels\n",
        "\n",
        "    for x in architecture:\n",
        "      if type(x)==tuple:\n",
        "        layers += [\n",
        "                 CNN(\n",
        "            in_channels, x[1], kernel_size=x[0], stride=x[2], padding=x[3]\n",
        "        )\n",
        "        ]\n",
        "        in_channels = x[1]\n",
        "      elif type(x)==str:\n",
        "          layers += [\n",
        "                     nn.MaxPool2d(kernel_size=2,stride=2)\n",
        "          ]\n",
        "\n",
        "      elif type(x)==list:\n",
        "        conv1 = x[0]\n",
        "        conv2 = x[1]\n",
        "        num_repeats = x[2]\n",
        "\n",
        "        for _ in range(num_repeats):\n",
        "          layers += [\n",
        "                     CNN( in_channels, conv1[1], kernel_size=conv1[0], stride=conv1[2], padding=conv1[3] )\n",
        "          ]\n",
        "          layers += [\n",
        "                     CNN( conv1[1], conv2[1], kernel_size=conv2[0], stride=conv2[2], padding=conv2[3] )\n",
        "          ]\n",
        "\n",
        "          in_channels = conv2[1]\n",
        "    return nn.Sequential(*layers)\n",
        "\n",
        "  def _create_fcs(self, split_size, num_boxes, num_classes):\n",
        "    S, B, C = split_size, num_boxes, num_classes\n",
        "    return nn.Sequential(\n",
        "        nn.Flatten(),\n",
        "        nn.Linear(1024*S*S,496),\n",
        "        nn.Dropout(0.0),\n",
        "        nn.LeakyReLU(0.1),\n",
        "        nn.Linear(496,S*S*(C+B*5)),\n",
        "    )\n",
        "  \n",
        "def test(S=7, B=2, C=20):\n",
        "  model = Yolov1()\n",
        "  x=torch.randn((2,3,488,488))\n",
        "  print(model(x).shape)\n",
        "\n",
        "test()\n"
      ],
      "execution_count": null,
      "outputs": []
    },
    {
      "cell_type": "markdown",
      "metadata": {
        "id": "10K5FDNp8Ci1"
      },
      "source": [
        "##loss.py"
      ]
    },
    {
      "cell_type": "code",
      "metadata": {
        "id": "U1taiaux8COv"
      },
      "source": [
        ""
      ],
      "execution_count": null,
      "outputs": []
    },
    {
      "cell_type": "code",
      "metadata": {
        "id": "Qzd0NXSREIxd"
      },
      "source": [
        ""
      ],
      "execution_count": null,
      "outputs": []
    }
  ]
}