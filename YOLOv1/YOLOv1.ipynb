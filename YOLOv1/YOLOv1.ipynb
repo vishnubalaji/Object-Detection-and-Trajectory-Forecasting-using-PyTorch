{
  "nbformat": 4,
  "nbformat_minor": 0,
  "metadata": {
    "colab": {
      "name": "YOLOv1.ipynb",
      "provenance": [],
      "toc_visible": true,
      "authorship_tag": "ABX9TyPPnqzQEiK583ONKnAuNwQK"
    },
    "kernelspec": {
      "name": "python3",
      "display_name": "Python 3"
    },
    "language_info": {
      "name": "python"
    }
  },
  "cells": [
    {
      "cell_type": "markdown",
      "metadata": {
        "id": "iwY6xlcobxIm"
      },
      "source": [
        "#Getting started with YOLOv1 in PyTorch\n",
        "\n",
        "Materials used for learning YOLO :\n",
        "1. YOLOv1 from scratch ( by Aladdin Persson --> https://www.youtube.com/watch?v=n9_XyCGr-MI&t=1044s )"
      ]
    },
    {
      "cell_type": "code",
      "metadata": {
        "id": "kqUszyGMWFma"
      },
      "source": [
        ""
      ],
      "execution_count": null,
      "outputs": []
    }
  ]
}